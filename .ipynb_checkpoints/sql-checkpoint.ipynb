{
 "cells": [
  {
   "cell_type": "markdown",
   "metadata": {},
   "source": [
    "### Connect to/Create database"
   ]
  },
  {
   "cell_type": "code",
   "execution_count": 269,
   "metadata": {
    "collapsed": false
   },
   "outputs": [
    {
     "name": "stdout",
     "output_type": "stream",
     "text": [
      "Connected to database 'cities.db'\n"
     ]
    }
   ],
   "source": [
    "import sqlite3 as lite\n",
    "import pandas as pd\n",
    "\n",
    "try:\n",
    "    con = lite.connect('cities.db')\n",
    "    cur = con.cursor()\n",
    "except Exception as e:\n",
    "    print(type(e), '\\n', e)\n",
    "else:\n",
    "    print('Connected to database \\'cities.db\\'')"
   ]
  },
  {
   "cell_type": "markdown",
   "metadata": {},
   "source": [
    "### Create tables in database\n",
    "Notes: \n",
    "- We allow a city to have several industries, although we define only one main industry in the City class. Later we can add more industries per city.\n",
    "- Tables 'cities' and 'weather' could be merged into a unique table but we keep them separated here for practice purposes"
   ]
  },
  {
   "cell_type": "code",
   "execution_count": 270,
   "metadata": {
    "collapsed": false
   },
   "outputs": [
    {
     "name": "stdout",
     "output_type": "stream",
     "text": [
      "Table 'cities' deleted\n",
      "Table 'weather' deleted\n",
      "Table 'industry' deleted\n"
     ]
    }
   ],
   "source": [
    "with con:\n",
    "    tables = ['cities', 'weather', 'industry'] #tables to delete\n",
    "    for table in tables:\n",
    "        try:\n",
    "            cur.execute('DROP TABLE {};'.format(table))\n",
    "        except:\n",
    "            print('Could not delete table \\'{}\\''.format(table))\n",
    "        else:\n",
    "            print(\"Table '{}' deleted\".format(table))"
   ]
  },
  {
   "cell_type": "code",
   "execution_count": 271,
   "metadata": {
    "collapsed": false
   },
   "outputs": [
    {
     "name": "stdout",
     "output_type": "stream",
     "text": [
      "Table cities created/already exists\n",
      "Table weather created/already exists\n",
      "Table industry created/already exists\n"
     ]
    }
   ],
   "source": [
    "tables_list = ['cities', 'weather', 'industry']\n",
    "with con:\n",
    "    command = {}\n",
    "    # cities\n",
    "    command['cities'] = '''CREATE TABLE IF NOT EXISTS cities (\n",
    "    name TEXT PRIMARY KEY,\n",
    "    state TEXT);'''\n",
    "    # weather\n",
    "    command['weather'] = '''CREATE TABLE IF NOT EXISTS weather (\n",
    "    city TEXT PRIMARY KEY,\n",
    "    high_temp INT,\n",
    "    low_temp INT,\n",
    "    CHECK(high_temp > low_temp));'''\n",
    "    # industry\n",
    "    command['industry'] = '''CREATE TABLE IF NOT EXISTS industry (\n",
    "    id INTEGER PRIMARY KEY,\n",
    "    city TEXT,\n",
    "    industry TEXT,\n",
    "    FOREIGN KEY (city) REFERENCES cities(name));'''\n",
    "    \n",
    "    for table in ['cities', 'weather', 'industry']:\n",
    "        try:\n",
    "            cur.execute(command[table])\n",
    "        except Exception as e:\n",
    "            print(type(e), '\\n', e)\n",
    "        else:\n",
    "            print('Table {} created/already exists'.format(table))"
   ]
  },
  {
   "cell_type": "markdown",
   "metadata": {},
   "source": [
    "### Create class for cities"
   ]
  },
  {
   "cell_type": "code",
   "execution_count": 272,
   "metadata": {
    "collapsed": false
   },
   "outputs": [],
   "source": [
    "class City():\n",
    "    '''A simple class for location, weather, and industry in a city'''\n",
    "    \n",
    "    def __init__(self, name, state, high_temp=None, low_temp=None, industry='N/A'):\n",
    "        '''Initialize city attributes'''\n",
    "        self.name = name\n",
    "        self.state = state\n",
    "        self.high_temp = high_temp\n",
    "        self.low_temp = low_temp\n",
    "        self.industry = industry\n",
    "        \n",
    "    def __str__(self):\n",
    "        if self.industry == 'N/A':\n",
    "            str1 = '{} is located in the state of {} and its main industry is unknown.'.format(\n",
    "            self.name, self.state)\n",
    "        else:\n",
    "            str1 = '{} is located in the state of {} and its main industry is {}.'.format(\n",
    "                self.name, self.state, self.industry)\n",
    "        str2 = 'Average high and low temperatures are {} and {}, respectively.'.format(\n",
    "            self.high_temp, self.low_temp)\n",
    "        if 'None and None' in str2:\n",
    "            str2 = 'Average high and low temperatures are unknown.'\n",
    "        elif 'None' in str2:\n",
    "            str2 = str2.replace('None', 'unknown')\n",
    "        \n",
    "        return '{}\\n{}'.format(str1, str2)\n",
    "        \n",
    "    def get_name(self):\n",
    "        return self.name\n",
    "    \n",
    "    def get_state(self):\n",
    "        return self.state\n",
    "        \n",
    "    def get_temps(self):\n",
    "        return (self.high_temp, self.low_temp)\n",
    "    \n",
    "#     def set_temps(self, high_temp=self.high_temp, low_temp=self.low_temp):\n",
    "    def set_temps(self, high_temp, low_temp):\n",
    "        '''Set high and low temperatures'''\n",
    "        self.high_temp = high_temp\n",
    "        self.low_temp = low_temp\n",
    "        \n",
    "    def get_industry(self):\n",
    "        return self.industry\n",
    "    \n",
    "    def set_industry(self, industry):\n",
    "        '''Set the industry of the city'''\n",
    "        self.industry = industry"
   ]
  },
  {
   "cell_type": "markdown",
   "metadata": {},
   "source": [
    "### Create cities"
   ]
  },
  {
   "cell_type": "code",
   "execution_count": 273,
   "metadata": {
    "collapsed": false
   },
   "outputs": [],
   "source": [
    "# print(help(City))\n",
    "houston = City('Houston', 'TX', 90, 45, 'Oil and Gas')\n",
    "new_york = City('New York', 'NY', 80, 30, 'Finance')\n",
    "san_francisco = City('San Fransisco', 'CA', 83, 45, 'Hi-Tech')\n",
    "los_angeles = City('Los Angeles', 'CA', industry='Entertainment')\n",
    "seattle = City('Seattle', 'WA', 78, 29, 'Hi-Tech')\n",
    "washington = City('Washington', 'DC', 82, 33, 'Government')\n",
    "denver = City('Denver', 'CO', low_temp=27)\n",
    "\n",
    "city_list = [houston, new_york, san_francisco, los_angeles, seattle,\n",
    "            washington, denver]"
   ]
  },
  {
   "cell_type": "code",
   "execution_count": 274,
   "metadata": {
    "collapsed": false
   },
   "outputs": [
    {
     "name": "stdout",
     "output_type": "stream",
     "text": [
      "Houston is located in the state of TX and its main industry is Oil and Gas.\n",
      "Average high and low temperatures are 90 and 45, respectively.\n",
      "\n",
      "Seattle is located in the state of WA and its main industry is Hi-Tech.\n",
      "Average high and low temperatures are 78 and 29, respectively.\n",
      "\n",
      "Los Angeles is located in the state of CA and its main industry is Entertainment.\n",
      "Average high and low temperatures are unknown.\n",
      "\n",
      "Denver is located in the state of CO and its main industry is unknown.\n",
      "Average high and low temperatures are unknown and 27, respectively.\n"
     ]
    }
   ],
   "source": [
    "print(houston)\n",
    "print()\n",
    "print(seattle)\n",
    "print()\n",
    "print(los_angeles)\n",
    "print()\n",
    "print(denver)"
   ]
  },
  {
   "cell_type": "markdown",
   "metadata": {},
   "source": [
    "### Save cities information in databases\n",
    "Reminder:\n",
    "- cities values: (name TEXT PRIMARY KEY, state TEXT)\n",
    "- weather values: (city TEXT PRIMARY KEY, high_temp INT, low_temp INT)\n",
    "- industry values: (id INT PRIMARY KEY, city TEXT, state TEXT, industry TEXT)"
   ]
  },
  {
   "cell_type": "code",
   "execution_count": 277,
   "metadata": {
    "collapsed": false
   },
   "outputs": [],
   "source": [
    "with con:\n",
    "    for city in city_list:\n",
    "        command['cities'] = \"INSERT INTO cities (name, state) VALUES ('{}', '{}');\".format(\n",
    "                             city.get_name(), city.get_state())\n",
    "        high_t = city.get_temps()[0] if city.get_temps()[0] is not None else 'NULL' # otherwise issue when inserting None\n",
    "        low_t = city.get_temps()[1] if city.get_temps()[1] is not None else 'NULL'\n",
    "        command['weather'] = \"INSERT INTO weather (city, high_temp, low_temp) VALUES ('{}', {}, {});\".format(\n",
    "                              city.get_name(), high_t, low_t)\n",
    "        command['industry'] = \"INSERT INTO industry (city, industry) VALUES ('{}', '{}')\".format(\n",
    "                               city.get_name(), city.get_industry())\n",
    "        \n",
    "        for table in tables_list:\n",
    "            cur.execute(command[table])"
   ]
  },
  {
   "cell_type": "markdown",
   "metadata": {},
   "source": [
    "##### Check if information was properly inserted"
   ]
  },
  {
   "cell_type": "code",
   "execution_count": 278,
   "metadata": {
    "collapsed": false
   },
   "outputs": [
    {
     "name": "stdout",
     "output_type": "stream",
     "text": [
      "            name state\n",
      "0        Houston    TX\n",
      "1       New York    NY\n",
      "2  San Fransisco    CA\n",
      "3    Los Angeles    CA\n",
      "4        Seattle    WA\n",
      "5     Washington    DC\n",
      "6         Denver    CO \n",
      "\n",
      "            city  high_temp  low_temp\n",
      "0        Houston       90.0      45.0\n",
      "1       New York       80.0      30.0\n",
      "2  San Fransisco       83.0      45.0\n",
      "3    Los Angeles        NaN       NaN\n",
      "4        Seattle       78.0      29.0\n",
      "5     Washington       82.0      33.0\n",
      "6         Denver        NaN      27.0 \n",
      "\n",
      "   id           city       industry\n",
      "0   1        Houston    Oil and Gas\n",
      "1   2       New York        Finance\n",
      "2   3  San Fransisco        Hi-Tech\n",
      "3   4    Los Angeles  Entertainment\n",
      "4   5        Seattle        Hi-Tech\n",
      "5   6     Washington     Government\n",
      "6   7         Denver            N/A\n"
     ]
    }
   ],
   "source": [
    "df_cities = pd.read_sql('SELECT * FROM cities;', con)\n",
    "print(df_cities, '\\n')\n",
    "df_weather = pd.read_sql('SELECT * FROM weather;', con)\n",
    "print(df_weather, '\\n')\n",
    "df_industry = pd.read_sql('SELECT * FROM industry;', con)\n",
    "print(df_industry)"
   ]
  },
  {
   "cell_type": "markdown",
   "metadata": {},
   "source": [
    "##### Get everything in a single dataframe (1 industry per city at this point)"
   ]
  },
  {
   "cell_type": "code",
   "execution_count": 293,
   "metadata": {
    "collapsed": false
   },
   "outputs": [
    {
     "name": "stdout",
     "output_type": "stream",
     "text": [
      "             name state  avg_high_temp  avg_low_temp  main_industry\n",
      "0         Houston    TX           90.0          45.0    Oil and Gas\n",
      "1        New York    NY           80.0          30.0        Finance\n",
      "2   San Fransisco    CA           83.0          45.0        Hi-Tech\n",
      "3     Los Angeles    CA            NaN           NaN  Entertainment\n",
      "4         Seattle    WA           78.0          29.0        Hi-Tech\n",
      "5      Washington    DC           82.0          33.0     Government\n",
      "6          Denver    CO            NaN          27.0            N/A\n",
      "7        New York    NY           80.0          30.0  Entertainment\n",
      "8        New York    NY           80.0          30.0        Tourism\n",
      "9     Los Angeles    CA            NaN           NaN        Hi-Tech\n",
      "10        Houston    TX           90.0          45.0      Aerospace\n",
      "11        Seattle    WA           78.0          29.0      Aerospace\n",
      "12        Seattle    WA           78.0          29.0         Coffee\n",
      "13        Seattle    WA           78.0          29.0             IT\n"
     ]
    }
   ],
   "source": [
    "command = '''SELECT c.name AS name, c.state as state, j1.high_temp as avg_high_temp,\n",
    "                    j1.low_temp as avg_low_temp, j1.industry as main_industry FROM cities c JOIN\n",
    "             (SELECT w.city, w.high_temp, w.low_temp, i.industry FROM weather w JOIN\n",
    "              industry i ON w.city = i.city) j1\n",
    "             ON c.name = j1.city'''\n",
    "df_all = pd.read_sql(command, con)\n",
    "print(df_all)"
   ]
  },
  {
   "cell_type": "markdown",
   "metadata": {},
   "source": [
    "### Add a new colunm 'population' to the table 'cities'"
   ]
  },
  {
   "cell_type": "code",
   "execution_count": 280,
   "metadata": {
    "collapsed": false
   },
   "outputs": [],
   "source": [
    "with con:\n",
    "    cur.execute('ALTER TABLE cities ADD population INT;')"
   ]
  },
  {
   "cell_type": "code",
   "execution_count": 281,
   "metadata": {
    "collapsed": false
   },
   "outputs": [
    {
     "name": "stdout",
     "output_type": "stream",
     "text": [
      "            name state  population\n",
      "0        Houston    TX   2196000.0\n",
      "1       New York    NY         NaN\n",
      "2  San Fransisco    CA    837000.0\n",
      "3    Los Angeles    CA   3884000.0\n",
      "4        Seattle    WA         NaN\n",
      "5     Washington    DC         NaN\n",
      "6         Denver    CO    649000.0\n"
     ]
    }
   ],
   "source": [
    "population = {'Houston': 2196000,\n",
    "              'San Fransisco': 837000,\n",
    "              'Los Angeles': 3884000,\n",
    "              'Denver': 649000}\n",
    "\n",
    "with con:\n",
    "    for city, pop in population.items():\n",
    "        command = 'UPDATE cities SET population = {} WHERE name = \\'{}\\';'.format(pop, city)\n",
    "        cur.execute(command)\n",
    "    \n",
    "df_temp = pd.read_sql('SELECT * FROM cities;', con)\n",
    "print(df_temp)"
   ]
  },
  {
   "cell_type": "markdown",
   "metadata": {},
   "source": [
    "### Add more industries so that some cities have more than 1 type of industry"
   ]
  },
  {
   "cell_type": "code",
   "execution_count": 285,
   "metadata": {
    "collapsed": false
   },
   "outputs": [],
   "source": [
    "industries = {'New York': ['Entertainment', 'Tourism'],\n",
    "              'Los Angeles': ['Hi-Tech'],\n",
    "              'Houston': ['Aerospace'],\n",
    "              'Seattle': ['Aerospace', 'Coffee', 'IT']}\n",
    "\n",
    "with con:\n",
    "    for city, ind_list in industries.items():\n",
    "        for ind in ind_list:\n",
    "            command = \"INSERT INTO industry (city, industry) VALUES ('{}', '{}')\".format(\n",
    "                       city, ind)\n",
    "            cur.execute(command)"
   ]
  },
  {
   "cell_type": "markdown",
   "metadata": {},
   "source": [
    "##### Check previous operation by selecting cities with 2 or more types of industry"
   ]
  },
  {
   "cell_type": "code",
   "execution_count": 306,
   "metadata": {
    "collapsed": false
   },
   "outputs": [
    {
     "name": "stdout",
     "output_type": "stream",
     "text": [
      "          City State  Industries #\n",
      "0      Seattle    WA             4\n",
      "1     New York    NY             3\n",
      "2      Houston    TX             2\n",
      "3  Los Angeles    CA             2\n",
      "\n",
      "       City  Industries #\n",
      "0   Seattle             4\n",
      "1  New York             3\n"
     ]
    }
   ],
   "source": [
    "command = '''SELECT c.name as City, c.state as State, COUNT(i.industry) AS 'Industries #' \n",
    "             FROM cities c JOIN industry i ON c.name = i.city\n",
    "             GROUP BY c.name HAVING COUNT(i.industry) >= 2 \n",
    "             ORDER BY COUNT(i.industry) DESC;'''\n",
    "df_temp = pd.read_sql(command, con)\n",
    "print(df_temp)\n",
    "print()\n",
    "print(df_temp[['City', 'Industries #']][df_temp['Industries #'] > 2])"
   ]
  },
  {
   "cell_type": "markdown",
   "metadata": {},
   "source": [
    "### Select total number of city per industry"
   ]
  },
  {
   "cell_type": "code",
   "execution_count": 313,
   "metadata": {
    "collapsed": false
   },
   "outputs": [
    {
     "name": "stdout",
     "output_type": "stream",
     "text": [
      "        Industry  Present in # cities\n",
      "0        Hi-Tech                    3\n",
      "1      Aerospace                    2\n",
      "2  Entertainment                    2\n",
      "3         Coffee                    1\n",
      "4        Finance                    1\n",
      "5     Government                    1\n",
      "6             IT                    1\n",
      "7            N/A                    1\n",
      "8    Oil and Gas                    1\n",
      "9        Tourism                    1\n"
     ]
    }
   ],
   "source": [
    "command = '''SELECT i.industry as Industry, COUNT(c.name) as 'Present in # cities'\n",
    "             FROM cities c JOIN industry i ON c.name = i.city\n",
    "             GROUP BY i.industry ORDER BY COUNT(c.name) DESC;'''\n",
    "df_temp = pd.read_sql(command, con)\n",
    "print(df_temp)"
   ]
  },
  {
   "cell_type": "markdown",
   "metadata": {},
   "source": [
    "### Select temperatures from cities that have Hi-Tech and/or Aerospace and/or Entertainment"
   ]
  },
  {
   "cell_type": "code",
   "execution_count": null,
   "metadata": {
    "collapsed": true
   },
   "outputs": [],
   "source": [
    "command = '''SELECT c.name as City, temp.high_temp as high_temp, temp.low_temp as low_temp,\n",
    "             COUNT(temp.industry) as '# of industries' FROM\n",
    "             cities c JOIN (weather w JOIN industry i ON w.city = i.city) temp ON c.name = temp.city\n",
    "             GROUP BY c.name ORDER BY COUNT (temp.industry) DESC;'''\n",
    "df_temp = pd.read_sql(command, )"
   ]
  },
  {
   "cell_type": "markdown",
   "metadata": {},
   "source": []
  }
 ],
 "metadata": {
  "kernelspec": {
   "display_name": "Python [conda env:py35]",
   "language": "python",
   "name": "conda-env-py35-py"
  },
  "language_info": {
   "codemirror_mode": {
    "name": "ipython",
    "version": 3
   },
   "file_extension": ".py",
   "mimetype": "text/x-python",
   "name": "python",
   "nbconvert_exporter": "python",
   "pygments_lexer": "ipython3",
   "version": "3.5.2"
  }
 },
 "nbformat": 4,
 "nbformat_minor": 1
}
