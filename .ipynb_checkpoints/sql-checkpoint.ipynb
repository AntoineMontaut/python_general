{
 "cells": [
  {
   "cell_type": "markdown",
   "metadata": {},
   "source": [
    "### Connect to/Create database"
   ]
  },
  {
   "cell_type": "code",
   "execution_count": 47,
   "metadata": {
    "collapsed": false
   },
   "outputs": [],
   "source": [
    "import sqlite3 as lite\n",
    "\n",
    "con_weather = lite.connect('weather.db')\n",
    "con_cities = lite.connect('cities.db')"
   ]
  },
  {
   "cell_type": "markdown",
   "metadata": {},
   "source": [
    "### Create class for cities"
   ]
  },
  {
   "cell_type": "code",
   "execution_count": 63,
   "metadata": {
    "collapsed": false
   },
   "outputs": [],
   "source": [
    "class City():\n",
    "    '''A simple class for location, weather, and industry in a city'''\n",
    "    \n",
    "    def __init__(self, name, state, high_temp=None, low_temp=None, industry='N/A'):\n",
    "        '''Initialize city attributes'''\n",
    "        self.name = name\n",
    "        self.state = state\n",
    "        self.high_temp = high_temp\n",
    "        self.low_temp = low_temp\n",
    "        self.industry = industry\n",
    "        \n",
    "    def __str__(self):\n",
    "        str1 = '{} is located in the state of {} and its main industry is {}.'.format(\n",
    "            self.name, self.state, self.industry)\n",
    "        str2 = 'Average high and low temperatures are {} and {}, respectively.'.format(\n",
    "            self.high_temp, self.low_temp)\n",
    "        if 'None and None' in str2:\n",
    "            str2 = 'Average high and low temperatures are unknown.'\n",
    "        elif 'None' in str2:\n",
    "            str2 = str2.replace('None', 'unknown')\n",
    "        \n",
    "        return '{}\\n{}'.format(str1, str2)\n",
    "        \n",
    "    def get_name(self):\n",
    "        return self.name\n",
    "    \n",
    "    def get_state(self):\n",
    "        return self.state\n",
    "        \n",
    "    def get_temps(self):\n",
    "        return (self.high_temp, self.low_temp)\n",
    "    \n",
    "#     def set_temps(self, high_temp=self.high_temp, low_temp=self.low_temp):\n",
    "    def set_temps(self, high_temp, low_temp):\n",
    "        '''Set high and low temperatures'''\n",
    "        self.high_temp = high_temp\n",
    "        self.low_temp = low_temp\n",
    "        \n",
    "    def get_industry(self):\n",
    "        return industry\n",
    "    \n",
    "    def set_industry(self, industry):\n",
    "        '''Set the industry of the city'''\n",
    "        self.industry = industry"
   ]
  },
  {
   "cell_type": "markdown",
   "metadata": {},
   "source": [
    "### Create cities"
   ]
  },
  {
   "cell_type": "code",
   "execution_count": 64,
   "metadata": {
    "collapsed": false
   },
   "outputs": [],
   "source": [
    "# print(help(City))\n",
    "houston = City('Houston', 'TX', 45, 90, 'Oil and Gas')\n",
    "new_york = City('New York', 'NY', 30, 80, 'Finance')\n",
    "san_francisco = City('San Fransisco', 'CA', 45, 83, 'Hi-Tech')\n",
    "los_angeles = City('Los Angeles', 'CA', industry='Entertainment')\n",
    "seattle = City('Seattle', 'WA', 29, 78, 'Hi-Tech')\n",
    "washington = City('Washington', 'DC', 33, 82, 'Government')"
   ]
  },
  {
   "cell_type": "code",
   "execution_count": 65,
   "metadata": {
    "collapsed": false
   },
   "outputs": [
    {
     "name": "stdout",
     "output_type": "stream",
     "text": [
      "Houston is located in the state of TX and its main industry is Oil and Gas.\n",
      "Average high and low temperatures are 45 and 90, respectively.\n",
      "\n",
      "Seattle is located in the state of WA and its main industry is Hi-Tech.\n",
      "Average high and low temperatures are 29 and 78, respectively.\n",
      "\n",
      "Los Angeles is located in the state of CA and its main industry is Entertainment.\n",
      "Average high and low temperatures are unknown\n"
     ]
    }
   ],
   "source": [
    "print(houston)\n",
    "print()\n",
    "print(seattle)\n",
    "print()\n",
    "print(los_angeles)"
   ]
  },
  {
   "cell_type": "code",
   "execution_count": 62,
   "metadata": {
    "collapsed": false
   },
   "outputs": [
    {
     "name": "stdout",
     "output_type": "stream",
     "text": [
      "Average high and low temperatures are None and None, respectively.\n",
      "ok\n"
     ]
    }
   ],
   "source": [
    "a, b = None, None\n",
    "test = 'Average high and low temperatures are {} and {}, respectively.'.format(a, b)\n",
    "print(test)\n",
    "if 'None' in test:\n",
    "    print('ok')\n",
    "else:\n",
    "    print('nope')"
   ]
  },
  {
   "cell_type": "code",
   "execution_count": null,
   "metadata": {
    "collapsed": true
   },
   "outputs": [],
   "source": []
  }
 ],
 "metadata": {
  "kernelspec": {
   "display_name": "Python [conda env:py35]",
   "language": "python",
   "name": "conda-env-py35-py"
  },
  "language_info": {
   "codemirror_mode": {
    "name": "ipython",
    "version": 3
   },
   "file_extension": ".py",
   "mimetype": "text/x-python",
   "name": "python",
   "nbconvert_exporter": "python",
   "pygments_lexer": "ipython3",
   "version": "3.5.2"
  }
 },
 "nbformat": 4,
 "nbformat_minor": 1
}
